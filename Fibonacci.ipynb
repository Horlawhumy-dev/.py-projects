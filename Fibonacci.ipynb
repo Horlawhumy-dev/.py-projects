{
 "cells": [
  {
   "cell_type": "code",
   "execution_count": null,
   "metadata": {
    "collapsed": true
   },
   "outputs": [],
   "source": [
    "guess = int(input(\"Enter the guessing numbebr: \"))\n",
    "import random\n",
    "num = random.randint(1, 11)\n",
    "i = 0\n",
    "while i < 10:\n",
    "    if guess == num:\n",
    "        print(\"Woow! You  guessed right\")\n",
    "    i +=1\n",
    "else:\n",
    "    print(\"Unmatched guessing\")\n",
    "\n",
    "print(\"Sorry! Chances finished.\")\n",
    "    \n",
    "        \n"
   ]
  },
  {
   "cell_type": "code",
   "execution_count": null,
   "metadata": {
    "collapsed": true
   },
   "outputs": [],
   "source": [
    "\n",
    "\n"
   ]
  },
  {
   "cell_type": "code",
   "execution_count": 7,
   "metadata": {},
   "outputs": [
    {
     "name": "stdout",
     "output_type": "stream",
     "text": [
      "range(999, -1, -1)\n"
     ]
    }
   ],
   "source": [
    "num1 = range(1000)\n",
    "num1 = num1[::-1]\n",
    "if num1 == num1:\n",
    "    print(num1)"
   ]
  },
  {
   "cell_type": "code",
   "execution_count": null,
   "metadata": {
    "collapsed": true
   },
   "outputs": [],
   "source": []
  }
 ],
 "metadata": {
  "kernelspec": {
   "display_name": "Python 3",
   "language": "python",
   "name": "python3"
  },
  "language_info": {
   "codemirror_mode": {
    "name": "ipython",
    "version": 3
   },
   "file_extension": ".py",
   "mimetype": "text/x-python",
   "name": "python",
   "nbconvert_exporter": "python",
   "pygments_lexer": "ipython3",
   "version": "3.6.1"
  }
 },
 "nbformat": 4,
 "nbformat_minor": 2
}
