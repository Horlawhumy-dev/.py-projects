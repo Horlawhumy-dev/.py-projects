{
 "cells": [
  {
   "cell_type": "code",
   "execution_count": 6,
   "metadata": {},
   "outputs": [
    {
     "name": "stdout",
     "output_type": "stream",
     "text": [
      "What is your fullname in particular? a\n",
      "Hi a !\n",
      "Are you female or male? male\n",
      "Hey Mr  a ! You are welcome to this interview session \n",
      "You hail from what faculty? tech\n",
      "Not short form was asked rather full spelling!\n",
      "What is your campus id? csc\n",
      "You are a computer department student!\n",
      "Enter the name of institution that you attend: oau\n",
      "This is worst! And you called yourself a student?\n",
      "Kindly provide your year of birth: 1997\n",
      "Enter the current year we are: 2020\n",
      "Proceed...... to know your age\n",
      "Kindly provide your year of birth (e.g 1990) : 1997\n",
      "Enter the current year we are: 2020\n",
      "Wow! Do you know? that you will be clocking  23 years of age in this 2020!\n",
      "PLease provide your 11 digits: 090528768\n"
     ]
    },
    {
     "ename": "SyntaxError",
     "evalue": "'break' outside loop (<ipython-input-6-a4ea1fd66556>, line 83)",
     "output_type": "error",
     "traceback": [
      "\u001b[1;36m  File \u001b[1;32m\"<ipython-input-6-a4ea1fd66556>\"\u001b[1;36m, line \u001b[1;32m83\u001b[0m\n\u001b[1;33m    break\u001b[0m\n\u001b[1;37m    ^\u001b[0m\n\u001b[1;31mSyntaxError\u001b[0m\u001b[1;31m:\u001b[0m 'break' outside loop\n"
     ]
    }
   ],
   "source": [
    "#Interview Session for student and a calculator of age.\n",
    "    # Greetings\n",
    "Name = input(\"What is your fullname in particular? \")\n",
    "print(\"Hi\",Name,\"!\",)\n",
    "    # To know the gender of the user\n",
    "sex = input(\"Are you female or male? \")\n",
    "if sex == \"male\":\n",
    "    print(\"Hey Mr \",Name,\"!\",\"You are welcome to this interview session \")\n",
    "elif sex == \"female\":\n",
    "    print(\"Miss \",Name,\"!\",\"You are welcome to this interview session\")\n",
    "else:\n",
    "    print(\"You are homosexual being or don't have any genital at all\")\n",
    "                                                                # To know the faculty\n",
    "faculty = input(\"You hail from what faculty? \")\n",
    "if faculty == \"Technology\":\n",
    "    print(\"Great Technologist\")\n",
    "elif faculty == \"tech\" or faculty == \"Tech\":\n",
    "    print(\"Not short form was asked rather full spelling!\")\n",
    "else:\n",
    "    print(\"Other faculties!\")\n",
    "\n",
    "matric_num = input(\"What is your campus id? \")\n",
    "                                                            # To confirm department\n",
    "if \"csc\" in matric_num :\n",
    "    print(\"You are a computer department student!\")\n",
    "elif \"fst\" in matric_num:\n",
    "    print(\"Student of Food Science Department Student\")\n",
    "elif \"eeg\" in matric_num:\n",
    "    print(\"Great Electrical Engineering Student\")\n",
    "elif \"age\" in matric_num:\n",
    "    print(\"Student of Agricultural Engineering\")\n",
    "elif \"mee\" in matric_num:\n",
    "    print(\"Department of Mechanical Engineering right!\")\n",
    "elif \"mse\" in matric_num:\n",
    "    print(\"You are in Material and Metallurgical Science Department\")\n",
    "elif \"che\" in matric_num:\n",
    "    print(\"From Chemical Engineering department!\")\n",
    "\n",
    "else:\n",
    "    print(\"You are not in faculty of Technology! Proceed...\")\n",
    "                                                                    # To check the kind of institution if not attending GreatIfe\n",
    "\n",
    "institution = input(\"Enter the name of institution that you attend: \")\n",
    "if institution == \"Obafemi Awolowo University Ile-Ife\":\n",
    "    print(\"You are part of GreatIfe!\")\n",
    "elif institution == \"O.A.U\":\n",
    "    print(\"You were asked the name of it not the acronynm rather\")\n",
    "elif institution == \"obafemi awolowo university\":\n",
    "    print(\"I don't think you are one with this your spelling\")\n",
    "elif institution == \"OAU\":\n",
    "    print(\"This is acronym and you also omitted the dots!\")\n",
    "elif institution == \"oau\":\n",
    "    print(\"This is worst! And you called yourself a student?\")\n",
    "else:\n",
    "    print(\"You are from other universities!\")\n",
    "    \n",
    "                                                                            # Age Calculator\n",
    "    \n",
    "Birth_year = int(input(\"Kindly provide your year of birth: \"))\n",
    "Current_year = int(input(\"Enter the current year we are: \"))\n",
    "while Current_year > Birth_year:\n",
    "    print(\"Proceed...... to know your age\")\n",
    "    break\n",
    "#print(\"Please retype the both years.\")\n",
    "else:\n",
    "    print(\"Please retype the both years.\")\n",
    "    \n",
    "Birth_year = int(input(\"Kindly provide your year of birth (e.g 1990) : \"))\n",
    "Current_year = int(input(\"Enter the current year we are: \"))\n",
    "if Birth_year > Current_year:\n",
    "    print(\"You must be a demon! Smiles.... \")\n",
    "else:\n",
    "    def Age(Birth_year, Current_year):\n",
    "        Age = Current_year - Birth_year\n",
    "        return(Age)\n",
    "Age(Birth_year, Current_year)\n",
    "print(\"Wow! Do you know? that you will be clocking \", Age(Birth_year, Current_year),\"years of age in this 2020!\")\n",
    "                                                            # To check whether the contact is completed\n",
    "\n",
    "phone_num = (input(\"PLease provide your 11 digits: \"))\n",
    "if len(phone_num) == 11:\n",
    "    print(\"Thanks for responding!\")\n",
    "else:\n",
    "    print(\"Retype it\")\n",
    "    \n",
    "phone_num = (input(\"PLease provide your 11 digits: \"))\n",
    "if len(phone_num) == 11:\n",
    "    print(\"You are blessed!\")\n",
    "else:\n",
    "    print(\"It seems you have forgotten it or probably you don't possess any.\")\n",
    "    \n",
    "print(\"Thank you for taking your time to answer our interview!\",\" \",\"Aluta Continua!\",\" \",\"Victoria Ascerta!!\",\" \",\"God Bless GreatIfe!!!\")\n",
    "\n",
    "\n",
    "    \n"
   ]
  },
  {
   "cell_type": "code",
   "execution_count": null,
   "metadata": {
    "collapsed": true
   },
   "outputs": [],
   "source": []
  },
  {
   "cell_type": "code",
   "execution_count": null,
   "metadata": {
    "collapsed": true
   },
   "outputs": [],
   "source": []
  },
  {
   "cell_type": "markdown",
   "metadata": {
    "collapsed": true
   },
   "source": []
  }
 ],
 "metadata": {
  "kernelspec": {
   "display_name": "Python 3",
   "language": "python",
   "name": "python3"
  },
  "language_info": {
   "codemirror_mode": {
    "name": "ipython",
    "version": 3
   },
   "file_extension": ".py",
   "mimetype": "text/x-python",
   "name": "python",
   "nbconvert_exporter": "python",
   "pygments_lexer": "ipython3",
   "version": "3.6.1"
  }
 },
 "nbformat": 4,
 "nbformat_minor": 2
}
