{
 "cells": [
  {
   "cell_type": "code",
   "execution_count": null,
   "metadata": {
    "collapsed": true
   },
   "outputs": [],
   "source": []
  },
  {
   "cell_type": "code",
   "execution_count": 9,
   "metadata": {},
   "outputs": [
    {
     "name": "stdout",
     "output_type": "stream",
     "text": [
      "Which of the semesters?....(e.g 1 0r 2) 1\n",
      "Kindly give the following results: \n",
      "What is your mth101 score: 71\n",
      "What is your chm101 score: 74\n",
      "What is your phy101 score: 56\n",
      "What is your csc101 score: 65\n",
      "What is your tpd101 score: 71\n",
      "What is your chm103 score: 75\n",
      "What is your phy107 score: 55\n",
      "The total scores of your result is  467 over 700 all courses are graded by 100\n",
      "TCP is  1206\n",
      "The total number of units for part one students in faculty of Technology i.e TNU is  18\n",
      "2.582441113490364\n",
      "You are doing good and you are said to be a SECOND CLASS LOWER DIVISION STUDENT by the Senate of this institution.\n"
     ]
    },
    {
     "data": {
      "text/plain": [
       "'def GP(TNU, TCP):\\n    GP = float(TNU / TCP)\\n    return(GP)\\n    \\nGP(TNU, TCP)'"
      ]
     },
     "execution_count": 9,
     "metadata": {},
     "output_type": "execute_result"
    }
   ],
   "source": [
    "#  Entering of the scores for both semesters\n",
    "'''mth101_score =float(input(\"Please enter your math score: \"))\n",
    "chm101_score =float(input(\"Please enter your math score: \"))\n",
    "phy101_score =float(input(\"Please enter your math score: \"))\n",
    "csc101_score =float(input(\"Please enter your math score: \"))\n",
    "tpd101_score =float(input(\"Please enter your math score: \"))\n",
    "mth102_score =float(input(\"Please enter your math score: \"))\n",
    "mth104_score =float(input(\"Please enter your math score: \"))\n",
    "chm102_score =float(input(\"Please enter your math score: \"))\n",
    "phy102_score =float(input(\"Please enter your math score: \"))\n",
    "chm103_score =float(input(\"Please enter your math score: \"))\n",
    "chm104_score =float(input(\"Please enter your math score: \"))\n",
    "phy107_score =float(input(\"Please enter your math score: \"))\n",
    "phy108_score =float(input(\"Please enter your math score: \"))\n",
    "csc102_score =float(input(\"Please enter your math score: \"))'''\n",
    "\n",
    "sem_type =int(input(\"Which of the semesters?....(e.g 1 0r 2) \"))\n",
    "while sem_type == 1:\n",
    "    print(\"Kindly give the following results: \")\n",
    "    break\n",
    "mth101 = int(input(\"What is your mth101 score: \"))\n",
    "chm101 = int(input(\"What is your chm101 score: \"))\n",
    "phy101 = int(input(\"What is your phy101 score: \"))\n",
    "csc101 = int(input(\"What is your csc101 score: \"))\n",
    "tpd101 = int(input(\"What is your tpd101 score: \"))\n",
    "chm103 = int(input(\"What is your chm103 score: \"))\n",
    "phy107 = int(input(\"What is your phy107 score: \"))\n",
    "\n",
    "def sum(mth101, chm101, phy101, csc101, tpd101, chm103, phy107):\n",
    "    sum = mth101 + chm101 + phy101 + csc101 + tpd101 + chm103 + phy107\n",
    "    return(sum)\n",
    "\n",
    "TSC= sum(mth101, chm101, phy101, csc101, tpd101, chm103, phy107)\n",
    "print(\"The total scores of your result is \",TSC,\"over\",(100*7),\"all courses are graded by 100\")\n",
    "\n",
    "mth101_unit = 5\n",
    "chm101_unit = 4\n",
    "phy101_unit = 4\n",
    "csc101_unit = 2\n",
    "tpd101_unit = 1\n",
    "chm103_unit = 1\n",
    "phy107_unit = 1\n",
    "\n",
    "TCP = (mth101*mth101_unit) + (chm101*chm101_unit) + (phy101*phy101_unit) + (csc101*csc101_unit) + (tpd101*tpd101_unit) + (chm103*chm103_unit) + (phy107*phy107_unit)\n",
    "print(\"TCP is \",TCP)\n",
    "\n",
    "TNU = mth101_unit + chm101_unit + phy101_unit + tpd101_unit + csc101_unit + chm103_unit + phy107_unit\n",
    "print(\"The total number of units for part one students in faculty of Technology i.e TNU is \",TNU)\n",
    "\n",
    "GP = TCP / TSC\n",
    "print(GP)\n",
    "if GP >= 4.500 and GP <=5.000:\n",
    "    print(\"According to the Senate regulations of Obafemi Awolowo University Ile-Ife, I'm happy to say that you are a super fabulous FRST CLASS STUDENT! \")\n",
    "elif GP >=3.500 and GP <=4.499:\n",
    "    print(\"Great! You an ever dynamic SECOND CLASS UPPER DIVISION STUDENT in line with the Senate of this fantastic Citadel.\")\n",
    "elif GP >=2.500 and GP <=3.499:\n",
    "    print(\"You are doing good and you are said to be a SECOND CLASS LOWER DIVISION STUDENT by the Senate of this institution.\")\n",
    "elif GP >=1.500 and GP <=2.499:\n",
    "    print(\"You are a THIRD CLASS DIVISION STUDENT based on the Senate of O.A.U ILE-IFE regulations.\")\n",
    "elif GP >=1.000 and GP <= 1.499:\n",
    "    print(\"A PASS STUDENT CATEGORY of Obafemi Awolowo University Ile-Ife\")\n",
    "else:\n",
    "    print(\"With this your grade point for the semester, you will soon be advised to withdrtaw if it didn't rise above 1.00 by the end of second semster.\")\n",
    "\n",
    "\n",
    "\n",
    "\n",
    "\n",
    "\n",
    "\n",
    "\n",
    "\n",
    "\n",
    "\n",
    "\n",
    "\n",
    "\n",
    "\n",
    "\n",
    "\n",
    "\n",
    "'''def GP(TNU, TCP):\n",
    "    GP = float(TNU / TCP)\n",
    "    return(GP)\n",
    "    \n",
    "GP(TNU, TCP)'''\n",
    "\n",
    "#print(\"Congaratulations! Your GP for the fisrt semester is \",GP)\n",
    "    \n",
    "\n",
    "\n",
    "\n"
   ]
  },
  {
   "cell_type": "code",
   "execution_count": null,
   "metadata": {
    "collapsed": true
   },
   "outputs": [],
   "source": []
  }
 ],
 "metadata": {
  "kernelspec": {
   "display_name": "Python 3",
   "language": "python",
   "name": "python3"
  },
  "language_info": {
   "codemirror_mode": {
    "name": "ipython",
    "version": 3
   },
   "file_extension": ".py",
   "mimetype": "text/x-python",
   "name": "python",
   "nbconvert_exporter": "python",
   "pygments_lexer": "ipython3",
   "version": "3.6.1"
  }
 },
 "nbformat": 4,
 "nbformat_minor": 2
}
