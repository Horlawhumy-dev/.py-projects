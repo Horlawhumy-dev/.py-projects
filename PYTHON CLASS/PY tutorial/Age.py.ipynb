{
 "cells": [
  {
   "cell_type": "code",
   "execution_count": 1,
   "metadata": {},
   "outputs": [
    {
     "name": "stdout",
     "output_type": "stream",
     "text": [
      "Enter your birth year: 1995\n",
      "Hi! You are  25.0 years in this current year\n"
     ]
    }
   ],
   "source": [
    "year1 = float(input(\"Enter your birth year: \"))\n",
    "def Age(year1, year2):\n",
    "    Age = year2-year1\n",
    "    return(Age)\n",
    "Age(year1, 2020)\n",
    "print(\"Hi!\",\"You are \", Age(year1,2020),\"years in this current year\") \n",
    "    \n",
    "    "
   ]
  },
  {
   "cell_type": "code",
   "execution_count": null,
   "metadata": {
    "collapsed": true
   },
   "outputs": [],
   "source": []
  }
 ],
 "metadata": {
  "kernelspec": {
   "display_name": "Python 3",
   "language": "python",
   "name": "python3"
  },
  "language_info": {
   "codemirror_mode": {
    "name": "ipython",
    "version": 3
   },
   "file_extension": ".py",
   "mimetype": "text/x-python",
   "name": "python",
   "nbconvert_exporter": "python",
   "pygments_lexer": "ipython3",
   "version": "3.6.1"
  }
 },
 "nbformat": 4,
 "nbformat_minor": 2
}
