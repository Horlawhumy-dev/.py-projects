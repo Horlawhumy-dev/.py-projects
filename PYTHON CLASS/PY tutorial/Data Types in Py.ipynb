{
 "cells": [
  {
   "cell_type": "code",
   "execution_count": 14,
   "metadata": {},
   "outputs": [
    {
     "name": "stdout",
     "output_type": "stream",
     "text": [
      "True\n",
      "6\n"
     ]
    }
   ],
   "source": [
    "str1=\"Hello world\"\n",
    "print(\"Hell\" in str1)\n",
    "print(str1.find(\"wor\")) "
   ]
  },
  {
   "cell_type": "code",
   "execution_count": 16,
   "metadata": {},
   "outputs": [
    {
     "name": "stdout",
     "output_type": "stream",
     "text": [
      "HELLO WORLD\n",
      "Hello World\n"
     ]
    }
   ],
   "source": [
    "str1=\"hello world\"\n",
    "print(str1.upper())\n",
    "print(str1.title())"
   ]
  },
  {
   "cell_type": "code",
   "execution_count": 37,
   "metadata": {},
   "outputs": [
    {
     "name": "stdout",
     "output_type": "stream",
     "text": [
      "['dogs', 'cat', [2, 3, 'dog', 'paul', (2+3j)]]\n",
      "paul\n",
      "g\n",
      "[2, 'dog']\n"
     ]
    }
   ],
   "source": [
    "list1=[2,3,\"dog\",\"paul\",2+3j]\n",
    "pets=[\"dogs\",\"cat\",list1]\n",
    "print(pets)\n",
    "print(list1[3])\n",
    "print(pets[2][2][2])\n",
    "print(list1[0:4:2])"
   ]
  },
  {
   "cell_type": "code",
   "execution_count": 59,
   "metadata": {},
   "outputs": [
    {
     "name": "stdout",
     "output_type": "stream",
     "text": [
      "[2, 3, 'dog', 'paul']\n",
      "[2, 3, 'paul']\n",
      "[2, 3, 'cat', 'paul']\n"
     ]
    }
   ],
   "source": [
    "list1=[2,3,\"dog\",\"paul\",2+3j]\n",
    "list1.pop()\n",
    "print(list1)\n",
    "del(list1[2])\n",
    "print(list1)\n",
    "list1.insert(2, \"cat\")\n",
    "print(list1)\n"
   ]
  },
  {
   "cell_type": "code",
   "execution_count": 61,
   "metadata": {},
   "outputs": [
    {
     "name": "stdout",
     "output_type": "stream",
     "text": [
      "5\n",
      "[5, 4, 3, 2, 1]\n"
     ]
    }
   ],
   "source": [
    "num1=[1,2,3,4,5]\n",
    "print(max(num1))\n",
    "num1.reverse()\n",
    "print(num1)"
   ]
  },
  {
   "cell_type": "code",
   "execution_count": null,
   "metadata": {
    "collapsed": true
   },
   "outputs": [],
   "source": []
  },
  {
   "cell_type": "code",
   "execution_count": null,
   "metadata": {
    "collapsed": true
   },
   "outputs": [],
   "source": []
  }
 ],
 "metadata": {
  "kernelspec": {
   "display_name": "Python 3",
   "language": "python",
   "name": "python3"
  },
  "language_info": {
   "codemirror_mode": {
    "name": "ipython",
    "version": 3
   },
   "file_extension": ".py",
   "mimetype": "text/x-python",
   "name": "python",
   "nbconvert_exporter": "python",
   "pygments_lexer": "ipython3",
   "version": "3.6.1"
  }
 },
 "nbformat": 4,
 "nbformat_minor": 2
}
