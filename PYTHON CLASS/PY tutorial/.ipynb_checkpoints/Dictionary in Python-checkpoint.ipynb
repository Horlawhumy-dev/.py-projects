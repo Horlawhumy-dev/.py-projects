{
 "cells": [
  {
   "cell_type": "code",
   "execution_count": 16,
   "metadata": {},
   "outputs": [
    {
     "name": "stdout",
     "output_type": "stream",
     "text": [
      "paul\n",
      "26\n",
      "{'Name': 'paul', 'Age': '27', 'Dept': 'csc'}\n",
      "{'Name': 'paul', 'Age': '27', 'Dept': 'csc', 'Address': 'mayfair'}\n",
      "{'Age': '27', 'Dept': 'csc', 'Address': 'mayfair'}\n"
     ]
    }
   ],
   "source": [
    "# Dictionary in python is recognised by having a key for every element(s)\n",
    "dict1 = {\"Name\":\"paul\",\"Age\":\"26\",\"Dept\":\"csc\"}\n",
    "print(dict1[\"Name\"])\n",
    "print(dict1.get(\"Age\"))\n",
    "dict1[\"Age\"]=\"27\"\n",
    "print(dict1)\n",
    "dict1[\"Address\"]=\"mayfair\"\n",
    "print(dict1)\n",
    "dict1.pop(\"Name\")\n",
    "print(dict1)"
   ]
  },
  {
   "cell_type": "code",
   "execution_count": 14,
   "metadata": {},
   "outputs": [
    {
     "name": "stdout",
     "output_type": "stream",
     "text": [
      "{'Name': 'paul', 'Age': '26'}\n",
      "{}\n"
     ]
    }
   ],
   "source": [
    "dict1 = {\"Name\":\"paul\",\"Age\":\"26\",\"Dept\":\"csc\"}\n",
    "dict1.popitem()\n",
    "print(dict1)\n",
    "dict1.clear()\n",
    "print(dict1)"
   ]
  },
  {
   "cell_type": "code",
   "execution_count": 3,
   "metadata": {},
   "outputs": [
    {
     "name": "stdout",
     "output_type": "stream",
     "text": [
      "5\n"
     ]
    }
   ],
   "source": [
    "dict1 = {\"gradeA\":\"5\", \"gradeB\":\"4\", \"gradeC\":\"3\", \"gradeD\":\"2\", \"gradeE\":\"1\", \"gradeF\":\"0\"}\n",
    "print(dict1[\"gradeA\"])"
   ]
  },
  {
   "cell_type": "code",
   "execution_count": null,
   "metadata": {
    "collapsed": true
   },
   "outputs": [],
   "source": [
    "dict2 = int(dict1[\"gradeB\"])\n",
    "print(dict2* 5)"
   ]
  },
  {
   "cell_type": "code",
   "execution_count": 4,
   "metadata": {},
   "outputs": [
    {
     "name": "stdout",
     "output_type": "stream",
     "text": [
      "25\n"
     ]
    }
   ],
   "source": [
    "list1 = [5,3,4,6]\n",
    "dict1 = {\"A\":\"5\", \"B\":\"4\", \"C\":\"3\", \"D\":\"2\", \"E\":\"1\", \"F\":\"0\"}\n",
    "num = list1[0] * int(dict1[\"A\"])\n",
    "print(num)\n"
   ]
  },
  {
   "cell_type": "code",
   "execution_count": 7,
   "metadata": {},
   "outputs": [
    {
     "name": "stdout",
     "output_type": "stream",
     "text": [
      "['c', 'E', 'D', 'B', 'A']\n"
     ]
    }
   ],
   "source": [
    "list1 = [\"A\", \"c\", \"B\", \"E\", \"D\"]\n",
    "list1.sort(reverse=True)\n",
    "print(list1)"
   ]
  },
  {
   "cell_type": "code",
   "execution_count": null,
   "metadata": {
    "collapsed": true
   },
   "outputs": [],
   "source": []
  }
 ],
 "metadata": {
  "kernelspec": {
   "display_name": "Python 3",
   "language": "python",
   "name": "python3"
  },
  "language_info": {
   "codemirror_mode": {
    "name": "ipython",
    "version": 3
   },
   "file_extension": ".py",
   "mimetype": "text/x-python",
   "name": "python",
   "nbconvert_exporter": "python",
   "pygments_lexer": "ipython3",
   "version": "3.6.1"
  }
 },
 "nbformat": 4,
 "nbformat_minor": 2
}
