{
 "cells": [
  {
   "cell_type": "code",
   "execution_count": 18,
   "metadata": {},
   "outputs": [
    {
     "name": "stdout",
     "output_type": "stream",
     "text": [
      "Guess a number in this game: 13\n"
     ]
    }
   ],
   "source": [
    "num = 130\n",
    "digit = (input(\"Guess a number in this game: \"))\n",
    "guess = 0\n",
    "while guess < 3:\n",
    "    if digit == num:\n",
    "        print(\"Woow! You guessed \",digit,\"right.\")\n",
    "    guess += 1\n",
    "    "
   ]
  },
  {
   "cell_type": "code",
   "execution_count": 15,
   "metadata": {},
   "outputs": [
    {
     "ename": "SyntaxError",
     "evalue": "invalid syntax (<ipython-input-15-9452ef1f06d8>, line 8)",
     "output_type": "error",
     "traceback": [
      "\u001b[1;36m  File \u001b[1;32m\"<ipython-input-15-9452ef1f06d8>\"\u001b[1;36m, line \u001b[1;32m8\u001b[0m\n\u001b[1;33m    elif digit < num:\u001b[0m\n\u001b[1;37m       ^\u001b[0m\n\u001b[1;31mSyntaxError\u001b[0m\u001b[1;31m:\u001b[0m invalid syntax\n"
     ]
    }
   ],
   "source": [
    "num = 30\n",
    "digit = float(input(\"Enter any digit: \"))\n",
    "count = 0\n",
    "while count < 4:\n",
    "    if digit > num:\n",
    "        print(\"Woow! You tried but again\")\n",
    "    count = count +1\n",
    "    elif digit < num:\n",
    "        print(\"Try one more chance\")\n",
    "    count = count +2\n",
    "    elif digit == num:\n",
    "        print(\"Woow! Right\")\n",
    "    count = count +3\n",
    "    else:\n",
    "        print(\"You are not in good mood\")\n",
    "    "
   ]
  },
  {
   "cell_type": "code",
   "execution_count": 24,
   "metadata": {},
   "outputs": [
    {
     "ename": "SyntaxError",
     "evalue": "unexpected EOF while parsing (<ipython-input-24-6091bb20e57a>, line 2)",
     "output_type": "error",
     "traceback": [
      "\u001b[1;36m  File \u001b[1;32m\"<ipython-input-24-6091bb20e57a>\"\u001b[1;36m, line \u001b[1;32m2\u001b[0m\n\u001b[1;33m    # pass\u001b[0m\n\u001b[1;37m          ^\u001b[0m\n\u001b[1;31mSyntaxError\u001b[0m\u001b[1;31m:\u001b[0m unexpected EOF while parsing\n"
     ]
    }
   ],
   "source": [
    "for i in range(10):\n",
    "   # pass"
   ]
  },
  {
   "cell_type": "code",
   "execution_count": null,
   "metadata": {
    "collapsed": true
   },
   "outputs": [],
   "source": []
  },
  {
   "cell_type": "code",
   "execution_count": null,
   "metadata": {
    "collapsed": true
   },
   "outputs": [],
   "source": []
  }
 ],
 "metadata": {
  "kernelspec": {
   "display_name": "Python 3",
   "language": "python",
   "name": "python3"
  },
  "language_info": {
   "codemirror_mode": {
    "name": "ipython",
    "version": 3
   },
   "file_extension": ".py",
   "mimetype": "text/x-python",
   "name": "python",
   "nbconvert_exporter": "python",
   "pygments_lexer": "ipython3",
   "version": "3.6.1"
  }
 },
 "nbformat": 4,
 "nbformat_minor": 2
}
